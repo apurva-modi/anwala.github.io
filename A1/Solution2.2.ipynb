{
 "cells": [
  {
   "cell_type": "code",
   "execution_count": null,
   "metadata": {},
   "outputs": [],
   "source": [
    "from bs4 import BeautifulSoup\n",
    "import requests\n",
    "url = input(\"Enter the search query :\");\n",
    "\n",
    "re=requests.get(\"http://\" + url);\n",
    "data =re.text\n",
    "soup =BeautifulSoup(data)\n",
    "file = open(\"pdfurl.txt\",\"w\") \n",
    "for link in soup.find_all('a'):\n",
    "    line = link.get('href')\n",
    "    if \"http\" not in line :\n",
    "        continue\n",
    "    else:\n",
    "        response = requests.get(line)\n",
    "        if (response.headers['content-type'] == 'application/pdf'):\n",
    "            hrefLinks=link.get('href')\n",
    "            contentLength =response.headers['content-length']\n",
    "            file.write(hrefLinks+\"\\n\"+contentLength + \" bytes\\n\")\n",
    "            \n",
    "file.close()\n"
   ]
  },
  {
   "cell_type": "code",
   "execution_count": null,
   "metadata": {},
   "outputs": [],
   "source": []
  }
 ],
 "metadata": {
  "kernelspec": {
   "display_name": "Python 3",
   "language": "python",
   "name": "python3"
  },
  "language_info": {
   "codemirror_mode": {
    "name": "ipython",
    "version": 3
   },
   "file_extension": ".py",
   "mimetype": "text/x-python",
   "name": "python",
   "nbconvert_exporter": "python",
   "pygments_lexer": "ipython3",
   "version": "3.6.5"
  }
 },
 "nbformat": 4,
 "nbformat_minor": 2
}
